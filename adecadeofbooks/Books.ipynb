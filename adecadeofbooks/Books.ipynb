{
 "cells": [
  {
   "cell_type": "code",
   "execution_count": 1,
   "metadata": {},
   "outputs": [],
   "source": [
    "import numpy as np \n",
    "import pandas as pd"
   ]
  },
  {
   "cell_type": "code",
   "execution_count": 2,
   "metadata": {},
   "outputs": [
    {
     "output_type": "execute_result",
     "data": {
      "text/plain": "   tn  yn  year language\n0   1   1  2010       en\n1   2   2  2010       nl\n2   3   3  2010       nl\n3   4   4  2010       nl\n4   5   5  2010       nl",
      "text/html": "<div>\n<style scoped>\n    .dataframe tbody tr th:only-of-type {\n        vertical-align: middle;\n    }\n\n    .dataframe tbody tr th {\n        vertical-align: top;\n    }\n\n    .dataframe thead th {\n        text-align: right;\n    }\n</style>\n<table border=\"1\" class=\"dataframe\">\n  <thead>\n    <tr style=\"text-align: right;\">\n      <th></th>\n      <th>tn</th>\n      <th>yn</th>\n      <th>year</th>\n      <th>language</th>\n    </tr>\n  </thead>\n  <tbody>\n    <tr>\n      <th>0</th>\n      <td>1</td>\n      <td>1</td>\n      <td>2010</td>\n      <td>en</td>\n    </tr>\n    <tr>\n      <th>1</th>\n      <td>2</td>\n      <td>2</td>\n      <td>2010</td>\n      <td>nl</td>\n    </tr>\n    <tr>\n      <th>2</th>\n      <td>3</td>\n      <td>3</td>\n      <td>2010</td>\n      <td>nl</td>\n    </tr>\n    <tr>\n      <th>3</th>\n      <td>4</td>\n      <td>4</td>\n      <td>2010</td>\n      <td>nl</td>\n    </tr>\n    <tr>\n      <th>4</th>\n      <td>5</td>\n      <td>5</td>\n      <td>2010</td>\n      <td>nl</td>\n    </tr>\n  </tbody>\n</table>\n</div>"
     },
     "metadata": {},
     "execution_count": 2
    }
   ],
   "source": [
    "df = pd.read_csv('books.csv')\n",
    "df.head()"
   ]
  },
  {
   "cell_type": "code",
   "execution_count": 3,
   "metadata": {},
   "outputs": [
    {
     "output_type": "stream",
     "name": "stdout",
     "text": "year  language\n2010  en           3\n      nl          10\n2011  en           5\n      nl           8\n2012  en           7\n      fr           1\n      nl          10\n2013  en           8\n      fr           3\n      nl          16\n2014  en           6\n      nl           6\n2015  en           4\n      fr           8\n      nl          10\n2016  en           9\n      fr           7\n      nl          10\n2017  en           4\n      fr           8\n      nl          10\n2018  en           5\n      fr           3\n      nl           2\n2019  en          10\n      fr           3\n      nl          15\nName: yn, dtype: int64\n"
    }
   ],
   "source": [
    "df_peryear_andcountry = df.groupby(['year', 'language'])['yn'].count()\n",
    "print(df_peryear_andcountry)"
   ]
  },
  {
   "cell_type": "code",
   "execution_count": 4,
   "metadata": {},
   "outputs": [
    {
     "output_type": "stream",
     "name": "stdout",
     "text": "language    en   fr    nl\nyear                     \n2010       3.0  NaN  10.0\n2011       5.0  NaN   8.0\n2012       7.0  1.0  10.0\n2013       8.0  3.0  16.0\n2014       6.0  NaN   6.0\n2015       4.0  8.0  10.0\n2016       9.0  7.0  10.0\n2017       4.0  8.0  10.0\n2018       5.0  3.0   2.0\n2019      10.0  3.0  15.0\n"
    }
   ],
   "source": [
    "df_plotable = df_peryear_andcountry.unstack(level=1)\n",
    "print(df_plotable)"
   ]
  },
  {
   "cell_type": "code",
   "execution_count": 6,
   "metadata": {},
   "outputs": [
    {
     "output_type": "display_data",
     "data": {
      "text/plain": "<Figure size 432x288 with 1 Axes>",
      "image/png": "[encoded data removed]"
     },
     "metadata": {
      "needs_background": "light"
     }
    }
   ],
   "source": [
    "import matplotlib.pyplot as plt\n",
    "df_plotable.plot(kind='bar', stacked=True)\n",
    "plt.ylabel('number of books')\n",
    "plt.title('number of books per year')\n",
    "plt.show()"
   ]
  },
  {
   "cell_type": "code",
   "execution_count": null,
   "metadata": {},
   "outputs": [],
   "source": []
  }
 ],
 "metadata": {
  "kernelspec": {
   "display_name": "Python 3",
   "language": "python",
   "name": "python3"
  },
  "language_info": {
   "codemirror_mode": {
    "name": "ipython",
    "version": 3
   },
   "file_extension": ".py",
   "mimetype": "text/x-python",
   "name": "python",
   "nbconvert_exporter": "python",
   "pygments_lexer": "ipython3",
   "version": "3.7.3-final"
  }
 },
 "nbformat": 4,
 "nbformat_minor": 2
}