{
 "cells": [
  {
   "cell_type": "code",
   "execution_count": 1,
   "metadata": {},
   "outputs": [],
   "source": [
    "import numpy as np \n",
    "import pandas as pd"
   ]
  },
  {
   "cell_type": "code",
   "execution_count": 2,
   "metadata": {},
   "outputs": [
    {
     "output_type": "execute_result",
     "data": {
      "text/plain": "   count  year language\n0      1  2010       en\n1      2  2010       nl\n2      3  2010       nl\n3      4  2010       nl\n4      5  2010       nl",
      "text/html": "<div>\n<style scoped>\n    .dataframe tbody tr th:only-of-type {\n        vertical-align: middle;\n    }\n\n    .dataframe tbody tr th {\n        vertical-align: top;\n    }\n\n    .dataframe thead th {\n        text-align: right;\n    }\n</style>\n<table border=\"1\" class=\"dataframe\">\n  <thead>\n    <tr style=\"text-align: right;\">\n      <th></th>\n      <th>count</th>\n      <th>year</th>\n      <th>language</th>\n    </tr>\n  </thead>\n  <tbody>\n    <tr>\n      <th>0</th>\n      <td>1</td>\n      <td>2010</td>\n      <td>en</td>\n    </tr>\n    <tr>\n      <th>1</th>\n      <td>2</td>\n      <td>2010</td>\n      <td>nl</td>\n    </tr>\n    <tr>\n      <th>2</th>\n      <td>3</td>\n      <td>2010</td>\n      <td>nl</td>\n    </tr>\n    <tr>\n      <th>3</th>\n      <td>4</td>\n      <td>2010</td>\n      <td>nl</td>\n    </tr>\n    <tr>\n      <th>4</th>\n      <td>5</td>\n      <td>2010</td>\n      <td>nl</td>\n    </tr>\n  </tbody>\n</table>\n</div>"
     },
     "metadata": {},
     "execution_count": 2
    }
   ],
   "source": [
    "df = pd.read_csv('books.csv')\n",
    "df.head()"
   ]
  },
  {
   "cell_type": "code",
   "execution_count": 3,
   "metadata": {},
   "outputs": [
    {
     "output_type": "execute_result",
     "data": {
      "text/plain": "CategoricalDtype(categories=['nl', 'en', 'fr'], ordered=True)"
     },
     "metadata": {},
     "execution_count": 3
    }
   ],
   "source": [
    "df.language.unique()\n",
    "order_languages = ['nl', 'en', 'fr']\n",
    "df['language'] = df.language.astype('category', ordered=True, categories=order_languages)\n",
    "df.language.dtype"
   ]
  },
  {
   "cell_type": "code",
   "execution_count": 5,
   "metadata": {},
   "outputs": [
    {
     "output_type": "stream",
     "name": "stdout",
     "text": "year  language\n2010  nl          10\n      en           3\n2011  nl           8\n      en           5\n2012  nl          10\n      en           7\n      fr           1\n2013  nl          16\n      en           8\n      fr           3\n2014  nl           6\n      en           6\n2015  nl          10\n      en           4\n      fr           8\n2016  nl          10\n      en           9\n      fr           7\n2017  nl          10\n      en           4\n      fr           8\n2018  nl           2\n      en           5\n      fr           3\n2019  nl          15\n      en          10\n      fr           3\nName: count, dtype: int64\n"
    }
   ],
   "source": [
    "df_peryear_andcountry = df.groupby(['year', 'language'])['count'].count()\n",
    "print(df_peryear_andcountry)"
   ]
  },
  {
   "cell_type": "code",
   "execution_count": 6,
   "metadata": {},
   "outputs": [
    {
     "output_type": "stream",
     "name": "stdout",
     "text": "language  nl  en  fr\nyear                \n2010      10   3   0\n2011       8   5   0\n2012      10   7   1\n2013      16   8   3\n2014       6   6   0\n2015      10   4   8\n2016      10   9   7\n2017      10   4   8\n2018       2   5   3\n2019      15  10   3\n"
    }
   ],
   "source": [
    "df_plotable = df_peryear_andcountry.unstack(level=1, fill_value=0)\n",
    "print(df_plotable)"
   ]
  },
  {
   "cell_type": "code",
   "execution_count": 8,
   "metadata": {},
   "outputs": [
    {
     "output_type": "display_data",
     "data": {
      "text/plain": "<Figure size 432x288 with 1 Axes>",
      "image/png": "[encoded data removed]"
     },
     "metadata": {
      "needs_background": "light"
     }
    }
   ],
   "source": [
    "import matplotlib.pyplot as plt\n",
    "df_plotable.plot(kind='bar', stacked=True)\n",
    "plt.ylabel('number of books')\n",
    "plt.title('number of books per year')\n",
    "plt.show()"
   ]
  },
  {
   "cell_type": "code",
   "execution_count": null,
   "metadata": {},
   "outputs": [],
   "source": []
  }
 ],
 "metadata": {
  "kernelspec": {
   "display_name": "Python 3",
   "language": "python",
   "name": "python3"
  },
  "language_info": {
   "codemirror_mode": {
    "name": "ipython",
    "version": 3
   },
   "file_extension": ".py",
   "mimetype": "text/x-python",
   "name": "python",
   "nbconvert_exporter": "python",
   "pygments_lexer": "ipython3",
   "version": "3.7.3-final"
  }
 },
 "nbformat": 4,
 "nbformat_minor": 2
}