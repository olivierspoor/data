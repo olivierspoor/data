{
 "cells": [
  {
   "cell_type": "code",
   "execution_count": 41,
   "metadata": {},
   "outputs": [],
   "source": [
    "import numpy as np \n",
    "import pandas as pd"
   ]
  },
  {
   "cell_type": "code",
   "execution_count": 119,
   "metadata": {},
   "outputs": [
    {
     "output_type": "execute_result",
     "data": {
      "text/plain": "   count  year language\n0      1  2010       en\n1      2  2010       nl\n2      3  2010       nl\n3      4  2010       nl\n4      5  2010       nl",
      "text/html": "<div>\n<style scoped>\n    .dataframe tbody tr th:only-of-type {\n        vertical-align: middle;\n    }\n\n    .dataframe tbody tr th {\n        vertical-align: top;\n    }\n\n    .dataframe thead th {\n        text-align: right;\n    }\n</style>\n<table border=\"1\" class=\"dataframe\">\n  <thead>\n    <tr style=\"text-align: right;\">\n      <th></th>\n      <th>count</th>\n      <th>year</th>\n      <th>language</th>\n    </tr>\n  </thead>\n  <tbody>\n    <tr>\n      <th>0</th>\n      <td>1</td>\n      <td>2010</td>\n      <td>en</td>\n    </tr>\n    <tr>\n      <th>1</th>\n      <td>2</td>\n      <td>2010</td>\n      <td>nl</td>\n    </tr>\n    <tr>\n      <th>2</th>\n      <td>3</td>\n      <td>2010</td>\n      <td>nl</td>\n    </tr>\n    <tr>\n      <th>3</th>\n      <td>4</td>\n      <td>2010</td>\n      <td>nl</td>\n    </tr>\n    <tr>\n      <th>4</th>\n      <td>5</td>\n      <td>2010</td>\n      <td>nl</td>\n    </tr>\n  </tbody>\n</table>\n</div>"
     },
     "metadata": {},
     "execution_count": 119
    }
   ],
   "source": [
    "df = pd.read_csv('books.csv')\n",
    "df.head()"
   ]
  },
  {
   "cell_type": "code",
   "execution_count": 43,
   "metadata": {},
   "outputs": [
    {
     "output_type": "execute_result",
     "data": {
      "text/plain": "   count  year language\n0      1  2010  English\n1      2  2010    Dutch\n2      3  2010    Dutch\n3      4  2010    Dutch\n4      5  2010    Dutch",
      "text/html": "<div>\n<style scoped>\n    .dataframe tbody tr th:only-of-type {\n        vertical-align: middle;\n    }\n\n    .dataframe tbody tr th {\n        vertical-align: top;\n    }\n\n    .dataframe thead th {\n        text-align: right;\n    }\n</style>\n<table border=\"1\" class=\"dataframe\">\n  <thead>\n    <tr style=\"text-align: right;\">\n      <th></th>\n      <th>count</th>\n      <th>year</th>\n      <th>language</th>\n    </tr>\n  </thead>\n  <tbody>\n    <tr>\n      <th>0</th>\n      <td>1</td>\n      <td>2010</td>\n      <td>English</td>\n    </tr>\n    <tr>\n      <th>1</th>\n      <td>2</td>\n      <td>2010</td>\n      <td>Dutch</td>\n    </tr>\n    <tr>\n      <th>2</th>\n      <td>3</td>\n      <td>2010</td>\n      <td>Dutch</td>\n    </tr>\n    <tr>\n      <th>3</th>\n      <td>4</td>\n      <td>2010</td>\n      <td>Dutch</td>\n    </tr>\n    <tr>\n      <th>4</th>\n      <td>5</td>\n      <td>2010</td>\n      <td>Dutch</td>\n    </tr>\n  </tbody>\n</table>\n</div>"
     },
     "metadata": {},
     "execution_count": 43
    }
   ],
   "source": [
    "languages = {'nl':'Dutch', 'en':'English', 'fr':'French'}\n",
    "df = df.replace(languages)\n",
    "df.head()"
   ]
  },
  {
   "cell_type": "code",
   "execution_count": 44,
   "metadata": {},
   "outputs": [
    {
     "output_type": "execute_result",
     "data": {
      "text/plain": "CategoricalDtype(categories=['Dutch', 'English', 'French'], ordered=True)"
     },
     "metadata": {},
     "execution_count": 44
    }
   ],
   "source": [
    "order_languages = ['Dutch', 'English', 'French']\n",
    "df['language'] = df.language.astype('category', ordered=True, categories=order_languages)\n",
    "df.language.dtype"
   ]
  },
  {
   "cell_type": "code",
   "execution_count": 55,
   "metadata": {},
   "outputs": [
    {
     "output_type": "stream",
     "name": "stdout",
     "text": "year  language\n2010  Dutch       10\n      English      3\n2011  Dutch        8\n      English      5\n2012  Dutch       10\n      English      7\n      French       1\n2013  Dutch       16\n      English      8\n      French       3\n2014  Dutch        6\n      English      6\n2015  Dutch       10\n      English      4\n      French       8\n2016  Dutch       10\n      English      9\n      French       7\n2017  Dutch       10\n      English      4\n      French       8\n2018  Dutch        2\n      English      5\n      French       3\n2019  Dutch       15\n      English     10\n      French       3\nName: count, dtype: int64\n"
    }
   ],
   "source": [
    "df_peryear_andcountry = df.groupby(['year', 'language'])['count'].count()\n",
    "print(df_peryear_andcountry)"
   ]
  },
  {
   "cell_type": "code",
   "execution_count": 120,
   "metadata": {},
   "outputs": [
    {
     "output_type": "execute_result",
     "data": {
      "text/plain": "language  Dutch  English  French\nyear                            \n2010         10        3       0\n2011          8        5       0\n2012         10        7       1\n2013         16        8       3\n2014          6        6       0\n2015         10        4       8\n2016         10        9       7\n2017         10        4       8\n2018          2        5       3\n2019         15       10       3",
      "text/html": "<div>\n<style scoped>\n    .dataframe tbody tr th:only-of-type {\n        vertical-align: middle;\n    }\n\n    .dataframe tbody tr th {\n        vertical-align: top;\n    }\n\n    .dataframe thead th {\n        text-align: right;\n    }\n</style>\n<table border=\"1\" class=\"dataframe\">\n  <thead>\n    <tr style=\"text-align: right;\">\n      <th>language</th>\n      <th>Dutch</th>\n      <th>English</th>\n      <th>French</th>\n    </tr>\n    <tr>\n      <th>year</th>\n      <th></th>\n      <th></th>\n      <th></th>\n    </tr>\n  </thead>\n  <tbody>\n    <tr>\n      <th>2010</th>\n      <td>10</td>\n      <td>3</td>\n      <td>0</td>\n    </tr>\n    <tr>\n      <th>2011</th>\n      <td>8</td>\n      <td>5</td>\n      <td>0</td>\n    </tr>\n    <tr>\n      <th>2012</th>\n      <td>10</td>\n      <td>7</td>\n      <td>1</td>\n    </tr>\n    <tr>\n      <th>2013</th>\n      <td>16</td>\n      <td>8</td>\n      <td>3</td>\n    </tr>\n    <tr>\n      <th>2014</th>\n      <td>6</td>\n      <td>6</td>\n      <td>0</td>\n    </tr>\n    <tr>\n      <th>2015</th>\n      <td>10</td>\n      <td>4</td>\n      <td>8</td>\n    </tr>\n    <tr>\n      <th>2016</th>\n      <td>10</td>\n      <td>9</td>\n      <td>7</td>\n    </tr>\n    <tr>\n      <th>2017</th>\n      <td>10</td>\n      <td>4</td>\n      <td>8</td>\n    </tr>\n    <tr>\n      <th>2018</th>\n      <td>2</td>\n      <td>5</td>\n      <td>3</td>\n    </tr>\n    <tr>\n      <th>2019</th>\n      <td>15</td>\n      <td>10</td>\n      <td>3</td>\n    </tr>\n  </tbody>\n</table>\n</div>"
     },
     "metadata": {},
     "execution_count": 120
    }
   ],
   "source": [
    "df_plotable = df_peryear_andcountry.unstack(level=1, fill_value=0)\n",
    "df_plotable"
   ]
  },
  {
   "cell_type": "code",
   "execution_count": 110,
   "metadata": {},
   "outputs": [
    {
     "output_type": "display_data",
     "data": {
      "text/plain": "<Figure size 432x288 with 1 Axes>",
      "image/png": "[encoded data removed]"
     },
     "metadata": {
      "needs_background": "light"
     }
    }
   ],
   "source": [
    "import matplotlib.pyplot as plt\n",
    "df_plotable.plot(kind='bar', stacked=True)\n",
    "plt.ylabel('number of books')\n",
    "plt.title('number of books per year')\n",
    "plt.show()"
   ]
  },
  {
   "cell_type": "code",
   "execution_count": 121,
   "metadata": {},
   "outputs": [
    {
     "output_type": "execute_result",
     "data": {
      "text/plain": "year\n2010     13\n2011     26\n2012     44\n2013     71\n2014     83\n2015    105\n2016    131\n2017    153\n2018    163\n2019    191\ndtype: int64"
     },
     "metadata": {},
     "execution_count": 121
    }
   ],
   "source": [
    "total_per_year = df_plotable.sum(axis=1)\n",
    "total_per_year_cummulative = total_per_year.cumsum()\n",
    "total_per_year_cummulative"
   ]
  },
  {
   "cell_type": "code",
   "execution_count": 159,
   "metadata": {},
   "outputs": [
    {
     "output_type": "display_data",
     "data": {
      "text/plain": "<Figure size 432x288 with 2 Axes>",
      "image/png": "[encoded data removed]"
     },
     "metadata": {
      "needs_background": "light"
     }
    }
   ],
   "source": [
    "fig, ax1 = plt.subplots()\n",
    "\n",
    "ax1.set_xlabel('year')\n",
    "ax1.set_ylabel('books per year')\n",
    "ax1.bar(df_plotable.index, df_plotable.Dutch, width=0.6, label='Dutch')\n",
    "ax1.bar(df_plotable.index, df_plotable.English, width=0.6, label='English', bottom=df_plotable.Dutch)\n",
    "ax1.bar(df_plotable.index, df_plotable.French, width=0.6, label='French', bottom=df_plotable.English+df_plotable.Dutch)\n",
    "\n",
    "ax1.legend()\n",
    "\n",
    "ax2 = ax1.twinx()\n",
    "\n",
    "ax2.set_ylabel('total number of books cummulative')\n",
    "ax2.plot(total_per_year_cummulative, color='black')\n",
    "\n",
    "# fig.tight_layout()\n",
    "plt.show()"
   ]
  },
  {
   "cell_type": "code",
   "execution_count": null,
   "metadata": {},
   "outputs": [],
   "source": []
  }
 ],
 "metadata": {
  "kernelspec": {
   "display_name": "Python 3",
   "language": "python",
   "name": "python3"
  },
  "language_info": {
   "codemirror_mode": {
    "name": "ipython",
    "version": 3
   },
   "file_extension": ".py",
   "mimetype": "text/x-python",
   "name": "python",
   "nbconvert_exporter": "python",
   "pygments_lexer": "ipython3",
   "version": "3.7.3-final"
  }
 },
 "nbformat": 4,
 "nbformat_minor": 2
}