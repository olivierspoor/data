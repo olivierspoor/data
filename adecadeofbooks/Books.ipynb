{
 "cells": [
  {
   "cell_type": "markdown",
   "metadata": {},
   "source": [
    "# A decade of books\n",
    "##### A quick visualization\n",
    "\n",
    "_____\n",
    "\n",
    "![notebook](notebook.jpg)\n",
    "_____\n",
    "\n",
    "\n",
    "A friend of mine inspired me to keep track of the books I read in a notebook. I started this list 10 year ago. I'd love to create a database with details on the books and authors, but for now this is just a quick visualization.\n"
   ]
  },
  {
   "cell_type": "code",
   "execution_count": 2,
   "metadata": {},
   "outputs": [],
   "source": [
    "import pandas as pd"
   ]
  },
  {
   "cell_type": "markdown",
   "metadata": {},
   "source": [
    "I made a list in LibreOffice Calc with the count per year and the language of the book and exported it to a csv file."
   ]
  },
  {
   "cell_type": "code",
   "execution_count": 5,
   "metadata": {},
   "outputs": [
    {
     "data": {
      "text/html": [
       "<div>\n",
       "<style scoped>\n",
       "    .dataframe tbody tr th:only-of-type {\n",
       "        vertical-align: middle;\n",
       "    }\n",
       "\n",
       "    .dataframe tbody tr th {\n",
       "        vertical-align: top;\n",
       "    }\n",
       "\n",
       "    .dataframe thead th {\n",
       "        text-align: right;\n",
       "    }\n",
       "</style>\n",
       "<table border=\"1\" class=\"dataframe\">\n",
       "  <thead>\n",
       "    <tr style=\"text-align: right;\">\n",
       "      <th></th>\n",
       "      <th>count</th>\n",
       "      <th>year</th>\n",
       "      <th>language</th>\n",
       "    </tr>\n",
       "  </thead>\n",
       "  <tbody>\n",
       "    <tr>\n",
       "      <th>0</th>\n",
       "      <td>1</td>\n",
       "      <td>2010</td>\n",
       "      <td>en</td>\n",
       "    </tr>\n",
       "    <tr>\n",
       "      <th>1</th>\n",
       "      <td>2</td>\n",
       "      <td>2010</td>\n",
       "      <td>nl</td>\n",
       "    </tr>\n",
       "    <tr>\n",
       "      <th>2</th>\n",
       "      <td>3</td>\n",
       "      <td>2010</td>\n",
       "      <td>nl</td>\n",
       "    </tr>\n",
       "    <tr>\n",
       "      <th>3</th>\n",
       "      <td>4</td>\n",
       "      <td>2010</td>\n",
       "      <td>nl</td>\n",
       "    </tr>\n",
       "    <tr>\n",
       "      <th>4</th>\n",
       "      <td>5</td>\n",
       "      <td>2010</td>\n",
       "      <td>nl</td>\n",
       "    </tr>\n",
       "    <tr>\n",
       "      <th>5</th>\n",
       "      <td>6</td>\n",
       "      <td>2010</td>\n",
       "      <td>nl</td>\n",
       "    </tr>\n",
       "    <tr>\n",
       "      <th>6</th>\n",
       "      <td>7</td>\n",
       "      <td>2010</td>\n",
       "      <td>nl</td>\n",
       "    </tr>\n",
       "    <tr>\n",
       "      <th>7</th>\n",
       "      <td>8</td>\n",
       "      <td>2010</td>\n",
       "      <td>nl</td>\n",
       "    </tr>\n",
       "    <tr>\n",
       "      <th>8</th>\n",
       "      <td>9</td>\n",
       "      <td>2010</td>\n",
       "      <td>nl</td>\n",
       "    </tr>\n",
       "    <tr>\n",
       "      <th>9</th>\n",
       "      <td>10</td>\n",
       "      <td>2010</td>\n",
       "      <td>nl</td>\n",
       "    </tr>\n",
       "  </tbody>\n",
       "</table>\n",
       "</div>"
      ],
      "text/plain": [
       "   count  year language\n",
       "0      1  2010       en\n",
       "1      2  2010       nl\n",
       "2      3  2010       nl\n",
       "3      4  2010       nl\n",
       "4      5  2010       nl\n",
       "5      6  2010       nl\n",
       "6      7  2010       nl\n",
       "7      8  2010       nl\n",
       "8      9  2010       nl\n",
       "9     10  2010       nl"
      ]
     },
     "execution_count": 5,
     "metadata": {},
     "output_type": "execute_result"
    }
   ],
   "source": [
    "books = pd.read_csv('books.csv')\n",
    "books.head(10)"
   ]
  },
  {
   "cell_type": "code",
   "execution_count": 6,
   "metadata": {},
   "outputs": [],
   "source": [
    "# Let's replace the abbreviations of the language.\n",
    "languages = {'nl':'Dutch', 'en':'English', 'fr':'French'}\n",
    "books = books.replace(languages)"
   ]
  },
  {
   "cell_type": "markdown",
   "metadata": {},
   "source": [
    "Dutch is my native language. In my teens English became a second language. As of 2010 I started learning Frech. Let's change the data type into an ordered category. "
   ]
  },
  {
   "cell_type": "code",
   "execution_count": 7,
   "metadata": {},
   "outputs": [
    {
     "data": {
      "text/plain": [
       "CategoricalDtype(categories=['Dutch', 'English', 'French'], ordered=True)"
      ]
     },
     "execution_count": 7,
     "metadata": {},
     "output_type": "execute_result"
    }
   ],
   "source": [
    "order_languages = ['Dutch', 'English', 'French']\n",
    "books['language'] = pd.Categorical(pd.Series(books.language), categories = order_languages, ordered = True)\n",
    "books.language.dtype"
   ]
  },
  {
   "cell_type": "code",
   "execution_count": 8,
   "metadata": {},
   "outputs": [
    {
     "data": {
      "text/html": [
       "<div>\n",
       "<style scoped>\n",
       "    .dataframe tbody tr th:only-of-type {\n",
       "        vertical-align: middle;\n",
       "    }\n",
       "\n",
       "    .dataframe tbody tr th {\n",
       "        vertical-align: top;\n",
       "    }\n",
       "\n",
       "    .dataframe thead th {\n",
       "        text-align: right;\n",
       "    }\n",
       "</style>\n",
       "<table border=\"1\" class=\"dataframe\">\n",
       "  <thead>\n",
       "    <tr style=\"text-align: right;\">\n",
       "      <th>language</th>\n",
       "      <th>Dutch</th>\n",
       "      <th>English</th>\n",
       "      <th>French</th>\n",
       "    </tr>\n",
       "    <tr>\n",
       "      <th>year</th>\n",
       "      <th></th>\n",
       "      <th></th>\n",
       "      <th></th>\n",
       "    </tr>\n",
       "  </thead>\n",
       "  <tbody>\n",
       "    <tr>\n",
       "      <th>2010</th>\n",
       "      <td>10</td>\n",
       "      <td>3</td>\n",
       "      <td>0</td>\n",
       "    </tr>\n",
       "    <tr>\n",
       "      <th>2011</th>\n",
       "      <td>8</td>\n",
       "      <td>5</td>\n",
       "      <td>0</td>\n",
       "    </tr>\n",
       "    <tr>\n",
       "      <th>2012</th>\n",
       "      <td>10</td>\n",
       "      <td>7</td>\n",
       "      <td>1</td>\n",
       "    </tr>\n",
       "    <tr>\n",
       "      <th>2013</th>\n",
       "      <td>16</td>\n",
       "      <td>8</td>\n",
       "      <td>3</td>\n",
       "    </tr>\n",
       "    <tr>\n",
       "      <th>2014</th>\n",
       "      <td>6</td>\n",
       "      <td>6</td>\n",
       "      <td>0</td>\n",
       "    </tr>\n",
       "    <tr>\n",
       "      <th>2015</th>\n",
       "      <td>10</td>\n",
       "      <td>4</td>\n",
       "      <td>8</td>\n",
       "    </tr>\n",
       "    <tr>\n",
       "      <th>2016</th>\n",
       "      <td>10</td>\n",
       "      <td>9</td>\n",
       "      <td>7</td>\n",
       "    </tr>\n",
       "    <tr>\n",
       "      <th>2017</th>\n",
       "      <td>10</td>\n",
       "      <td>4</td>\n",
       "      <td>8</td>\n",
       "    </tr>\n",
       "    <tr>\n",
       "      <th>2018</th>\n",
       "      <td>2</td>\n",
       "      <td>5</td>\n",
       "      <td>3</td>\n",
       "    </tr>\n",
       "    <tr>\n",
       "      <th>2019</th>\n",
       "      <td>15</td>\n",
       "      <td>10</td>\n",
       "      <td>3</td>\n",
       "    </tr>\n",
       "  </tbody>\n",
       "</table>\n",
       "</div>"
      ],
      "text/plain": [
       "language  Dutch  English  French\n",
       "year                            \n",
       "2010         10        3       0\n",
       "2011          8        5       0\n",
       "2012         10        7       1\n",
       "2013         16        8       3\n",
       "2014          6        6       0\n",
       "2015         10        4       8\n",
       "2016         10        9       7\n",
       "2017         10        4       8\n",
       "2018          2        5       3\n",
       "2019         15       10       3"
      ]
     },
     "execution_count": 8,
     "metadata": {},
     "output_type": "execute_result"
    }
   ],
   "source": [
    "# Let's use groupby to see the count per year and by language\n",
    "books_peryear_andlanguage = books.groupby(['year', 'language'])['count'].count()\n",
    "\n",
    "# Unstacking the language index makes the dataframe easier to read. NaN values are filled with 0.\n",
    "books_per_year = books_peryear_andlanguage.unstack(level=1, fill_value=0)\n",
    "books_per_year"
   ]
  },
  {
   "cell_type": "markdown",
   "metadata": {},
   "source": [
    "This dataframe can easily be visualized with a stacked bar plot."
   ]
  },
  {
   "cell_type": "code",
   "execution_count": 10,
   "metadata": {},
   "outputs": [
    {
     "data": {
      "image/png": "[encoded data removed]",
      "text/plain": [
       "<Figure size 432x288 with 1 Axes>"
      ]
     },
     "metadata": {
      "needs_background": "light"
     },
     "output_type": "display_data"
    }
   ],
   "source": [
    "import matplotlib.pyplot as plt\n",
    "books_per_year.plot(kind='bar', stacked=True)\n",
    "plt.ylabel('number of books')\n",
    "plt.title('number of books per year')\n",
    "plt.show()"
   ]
  },
  {
   "cell_type": "markdown",
   "metadata": {},
   "source": [
    "What's missing is the total cummulative book count. Below I'm taking the sum per row and additioning it columnwise. "
   ]
  },
  {
   "cell_type": "code",
   "execution_count": 11,
   "metadata": {},
   "outputs": [
    {
     "data": {
      "text/plain": [
       "year\n",
       "2010     13\n",
       "2011     26\n",
       "2012     44\n",
       "2013     71\n",
       "2014     83\n",
       "2015    105\n",
       "2016    131\n",
       "2017    153\n",
       "2018    163\n",
       "2019    191\n",
       "dtype: int64"
      ]
     },
     "execution_count": 11,
     "metadata": {},
     "output_type": "execute_result"
    }
   ],
   "source": [
    "total_per_year_cummulative = books_per_year.sum(axis=1).cumsum()\n",
    "total_per_year_cummulative"
   ]
  },
  {
   "cell_type": "markdown",
   "metadata": {},
   "source": [
    "I wanted to see the total amount of books as a line plot on top of the stacked barplot, with its own y-axis. "
   ]
  },
  {
   "cell_type": "code",
   "execution_count": 18,
   "metadata": {},
   "outputs": [
    {
     "data": {
      "image/png": "[encoded data removed]",
      "text/plain": [
       "<Figure size 720x432 with 2 Axes>"
      ]
     },
     "metadata": {
      "needs_background": "light"
     },
     "output_type": "display_data"
    }
   ],
   "source": [
    "from matplotlib.ticker import MultipleLocator\n",
    "\n",
    "fig, ax1 = plt.subplots(figsize=(10,6))\n",
    "\n",
    "ax1.set_facecolor('#D5CEB1')\n",
    "\n",
    "ax1.set_xlabel('year')\n",
    "plt.xticks(books_per_year.index, rotation=45)\n",
    "\n",
    "# books per year\n",
    "plt.yticks(ticks=[*range(0,30)])\n",
    "ax1.yaxis.set_minor_locator(MultipleLocator(1))\n",
    "ax1.yaxis.set_major_locator(MultipleLocator(5))\n",
    "ax1.set(ylim=(0, 30))\n",
    "\n",
    "ax1.set_axisbelow(True)\n",
    "ax1.grid(color='white', which='minor', axis='y', linestyle='-', linewidth=.5)\n",
    "\n",
    "\n",
    "ax1.set_ylabel('books per year')\n",
    "ax1.bar(books_per_year.index, books_per_year.Dutch, width=0.6, label='Dutch', color='#75422A')\n",
    "ax1.bar(books_per_year.index, books_per_year.English, width=0.6, label='English', color='#8B583D', bottom=books_per_year.Dutch)\n",
    "ax1.bar(books_per_year.index, books_per_year.French, width=0.6, label='French', color='#CDAA7A', bottom=books_per_year.English+books_per_year.Dutch)\n",
    "\n",
    "\n",
    "# invert legend as to follow the same order as bars\n",
    "handles, labels = ax1.get_legend_handles_labels()\n",
    "ax1.legend(handles[::-1], labels[::-1], title='Language', loc='upper left')\n",
    "\n",
    "# second axis\n",
    "ax2 = ax1.twinx()\n",
    "\n",
    "# total number of books\n",
    "ax2.set_ylabel('total number of books cummulative')\n",
    "ax2.plot(total_per_year_cummulative, color='#246679')\n",
    "ax2.tick_params(axis='y', labelcolor='#246679')\n",
    "ax2.set(ylim=(0, 300))\n",
    "ax2.yaxis.set_minor_locator(MultipleLocator(5))\n",
    "ax2.yaxis.set_major_locator(MultipleLocator(50))\n",
    "\n",
    "\n",
    "plt.title('A decade of books', fontdict={'fontsize':'16', 'fontweight':'bold'})\n",
    "fig.tight_layout()\n",
    "plt.show()"
   ]
  },
  {
   "cell_type": "code",
   "execution_count": null,
   "metadata": {},
   "outputs": [],
   "source": []
  }
 ],
 "metadata": {
  "kernelspec": {
   "display_name": "Python 3",
   "language": "python",
   "name": "python3"
  },
  "language_info": {
   "codemirror_mode": {
    "name": "ipython",
    "version": 3
   },
   "file_extension": ".py",
   "mimetype": "text/x-python",
   "name": "python",
   "nbconvert_exporter": "python",
   "pygments_lexer": "ipython3",
   "version": "3.7.3"
  }
 },
 "nbformat": 4,
 "nbformat_minor": 2
}
